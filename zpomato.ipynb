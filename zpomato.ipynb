{
  "nbformat": 4,
  "nbformat_minor": 0,
  "metadata": {
    "colab": {
      "provenance": [],
      "authorship_tag": "ABX9TyPk33dsElTdCc/BosPErBCQ",
      "include_colab_link": true
    },
    "kernelspec": {
      "name": "python3",
      "display_name": "Python 3"
    },
    "language_info": {
      "name": "python"
    }
  },
  "cells": [
    {
      "cell_type": "markdown",
      "metadata": {
        "id": "view-in-github",
        "colab_type": "text"
      },
      "source": [
        "<a href=\"https://colab.research.google.com/github/raunakyadav92/zomatoordersystem/blob/main/zpomato.ipynb\" target=\"_parent\"><img src=\"https://colab.research.google.com/assets/colab-badge.svg\" alt=\"Open In Colab\"/></a>"
      ]
    },
    {
      "cell_type": "code",
      "execution_count": null,
      "metadata": {
        "id": "0T1FPkg1SP-U"
      },
      "outputs": [],
      "source": [
        "menu = {\n",
        "    \"Pizza\": 250,\n",
        "    \"Burger\": 150,\n",
        "    \"Pasta\": 200,\n",
        "    \"Fries\": 100,\n",
        "    \"Soft Drink\": 50\n",
        "}\n",
        "\n",
        "order = []\n",
        "total = 0\n",
        "delivery_fee = 40\n",
        "\n",
        "print(\"🍴 Welcome to Zomato Food Ordering System 🍴\\n\")\n",
        "print(\"--- Menu ---\")\n",
        "for item, price in menu.items():\n",
        "    print(f\"{item}: ₹{price}\")\n",
        "\n",
        "while True:\n",
        "    choice = input(\"\\nEnter item name to add (or 'done' to finish): \").title()\n",
        "    if choice == \"Done\":\n",
        "        break\n",
        "    elif choice in menu:\n",
        "        order.append(choice)\n",
        "        total += menu[choice]\n",
        "        print(f\"✅ {choice} added to your order.\")\n",
        "    else:\n",
        "        print(\"❌ Item not available in the menu.\")\n",
        "\n",
        "if order:\n",
        "    print(\"\\n--- Your Order Summary ---\")\n",
        "    for item in order:\n",
        "        print(f\"• {item} - ₹{menu[item]}\")\n",
        "    print(f\"Subtotal: ₹{total}\")\n",
        "    print(f\"Delivery Fee: ₹{delivery_fee}\")\n",
        "    print(f\"Total Amount Payable: ₹{total + delivery_fee}\")\n",
        "    print(\"🛵 Your order has been placed! Thank you for using Zomato.\")\n",
        "else:\n",
        "    print(\"❌ You didn't order anything.\")\n"
      ]
    }
  ]
}